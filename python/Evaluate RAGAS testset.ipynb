{
 "cells": [
  {
   "cell_type": "markdown",
   "metadata": {},
   "source": [
    "Tutorial :\n",
    "https://docs.ragas.io/en/stable/getstarted/evaluation.html"
   ]
  },
  {
   "cell_type": "markdown",
   "metadata": {},
   "source": [
    "Import"
   ]
  },
  {
   "cell_type": "code",
   "execution_count": 1,
   "metadata": {},
   "outputs": [],
   "source": [
    "import os\n",
    "import openai\n",
    "import sys\n",
    "import pandas as pd\n",
    "import Call_RAG\n",
    "from datasets import Dataset\n",
    "from dotenv import load_dotenv, find_dotenv\n",
    "%matplotlib inline\n",
    "\n",
    "sys.path.append('../..')\n",
    "\n",
    "env_path = find_dotenv()\n",
    "\n",
    "_ = load_dotenv(find_dotenv()) # read local .env file\n",
    "\n",
    "openai.api_key  = os.environ['OPENAI_API_KEY']"
   ]
  },
  {
   "cell_type": "markdown",
   "metadata": {},
   "source": [
    "Upload evaluation dataset"
   ]
  },
  {
   "cell_type": "code",
   "execution_count": 2,
   "metadata": {},
   "outputs": [],
   "source": [
    "df_testset = pd.read_csv('evaluation_dataset.csv')"
   ]
  },
  {
   "cell_type": "markdown",
   "metadata": {},
   "source": [
    "Add answer column from RAG"
   ]
  },
  {
   "cell_type": "code",
   "execution_count": 3,
   "metadata": {},
   "outputs": [],
   "source": [
    "# Ajouter une colonne 'answer' en initialisant avec des chaînes vides ou NaN\n",
    "df_testset['answer'] = pd.NA\n",
    "\n",
    "# Générer la réponse pour chaque question et la stocker dans la colonne 'answer'\n",
    "for index, row in df_testset.iterrows():\n",
    "    user_input = row['question']  # Assurez-vous que la colonne s'appelle 'question'\n",
    "    output = Call_RAG.ask(user_input)\n",
    "    df_testset.at[index, 'answer'] = output\n",
    "\n",
    "df_testset.to_csv('evaluation_dataset for RAG1.csv', index=False)\n"
   ]
  },
  {
   "cell_type": "markdown",
   "metadata": {},
   "source": [
    "Transform df_testset into dictionnary then into dataset"
   ]
  },
  {
   "cell_type": "code",
   "execution_count": 4,
   "metadata": {},
   "outputs": [],
   "source": [
    "from ragas import evaluate\n",
    "\n",
    "Dictionnary_from_dataset = {\n",
    "    'question': df_testset['question'].tolist(),\n",
    "    'answer': df_testset['answer'].tolist(),\n",
    "    'contexts': df_testset['contexts'].apply(lambda x: x.split(',')).tolist(),  # Chaque contexte est une liste de chaînes\n",
    "    'ground_truth': df_testset['ground_truth'].tolist()\n",
    "}\n",
    "\n",
    "dataset = Dataset.from_dict(Dictionnary_from_dataset)\n"
   ]
  },
  {
   "cell_type": "markdown",
   "metadata": {},
   "source": [
    "Launch evaluation"
   ]
  },
  {
   "cell_type": "code",
   "execution_count": 5,
   "metadata": {},
   "outputs": [
    {
     "data": {
      "application/vnd.jupyter.widget-view+json": {
       "model_id": "8b81569cfcd44827ab3c19894ae64e31",
       "version_major": 2,
       "version_minor": 0
      },
      "text/plain": [
       "Evaluating:   0%|          | 0/40 [00:00<?, ?it/s]"
      ]
     },
     "metadata": {},
     "output_type": "display_data"
    }
   ],
   "source": [
    "result=evaluate(dataset)"
   ]
  },
  {
   "cell_type": "markdown",
   "metadata": {},
   "source": [
    "Display result of the evaluation"
   ]
  },
  {
   "cell_type": "code",
   "execution_count": 6,
   "metadata": {},
   "outputs": [
    {
     "data": {
      "text/html": [
       "<div>\n",
       "<style scoped>\n",
       "    .dataframe tbody tr th:only-of-type {\n",
       "        vertical-align: middle;\n",
       "    }\n",
       "\n",
       "    .dataframe tbody tr th {\n",
       "        vertical-align: top;\n",
       "    }\n",
       "\n",
       "    .dataframe thead th {\n",
       "        text-align: right;\n",
       "    }\n",
       "</style>\n",
       "<table border=\"1\" class=\"dataframe\">\n",
       "  <thead>\n",
       "    <tr style=\"text-align: right;\">\n",
       "      <th></th>\n",
       "      <th>question</th>\n",
       "      <th>answer</th>\n",
       "      <th>contexts</th>\n",
       "      <th>ground_truth</th>\n",
       "      <th>answer_relevancy</th>\n",
       "      <th>context_precision</th>\n",
       "      <th>faithfulness</th>\n",
       "      <th>context_recall</th>\n",
       "    </tr>\n",
       "  </thead>\n",
       "  <tbody>\n",
       "    <tr>\n",
       "      <th>0</th>\n",
       "      <td>How do the Aichi Targets promote coordinated a...</td>\n",
       "      <td>The Aichi Targets promote coordinated actions ...</td>\n",
       "      <td>[[' are promoted through the Aichi Targets. Th...</td>\n",
       "      <td>The Aichi Targets promote coordinated actions ...</td>\n",
       "      <td>0.928332</td>\n",
       "      <td>1.000000</td>\n",
       "      <td>0.666667</td>\n",
       "      <td>1.0</td>\n",
       "    </tr>\n",
       "    <tr>\n",
       "      <th>1</th>\n",
       "      <td>What is the purpose of the Observatory of Biod...</td>\n",
       "      <td>The purpose of the Observatory of Biodiversity...</td>\n",
       "      <td>[['MINFOF: Ministère des Forêts et de la Faune...</td>\n",
       "      <td>The purpose of the Observatory of Biodiversity...</td>\n",
       "      <td>1.000000</td>\n",
       "      <td>1.000000</td>\n",
       "      <td>1.000000</td>\n",
       "      <td>1.0</td>\n",
       "    </tr>\n",
       "    <tr>\n",
       "      <th>2</th>\n",
       "      <td>How do protected areas in Central African coun...</td>\n",
       "      <td>Protected areas in Central African countries c...</td>\n",
       "      <td>[['40\\nVarious COMIFAC directives,  notably th...</td>\n",
       "      <td>Protected areas in Central African countries c...</td>\n",
       "      <td>1.000000</td>\n",
       "      <td>0.849645</td>\n",
       "      <td>0.857143</td>\n",
       "      <td>1.0</td>\n",
       "    </tr>\n",
       "    <tr>\n",
       "      <th>3</th>\n",
       "      <td>How does habitat destruction pose a threat to ...</td>\n",
       "      <td>Habitat destruction in Central Africa leads to...</td>\n",
       "      <td>[['32\\n2.2. Rich but threatened  \\nanimal dive...</td>\n",
       "      <td>Habitat destruction poses a threat to great ap...</td>\n",
       "      <td>0.903681</td>\n",
       "      <td>0.863277</td>\n",
       "      <td>1.000000</td>\n",
       "      <td>1.0</td>\n",
       "    </tr>\n",
       "    <tr>\n",
       "      <th>4</th>\n",
       "      <td>What were the broad objectives for the overhau...</td>\n",
       "      <td>I don't know. Thanks for asking!</td>\n",
       "      <td>[['42\\nand to clarify its positioning in the n...</td>\n",
       "      <td>The broad objectives for the overhaul of UTOs ...</td>\n",
       "      <td>0.000000</td>\n",
       "      <td>0.923989</td>\n",
       "      <td>NaN</td>\n",
       "      <td>1.0</td>\n",
       "    </tr>\n",
       "  </tbody>\n",
       "</table>\n",
       "</div>"
      ],
      "text/plain": [
       "                                            question  \\\n",
       "0  How do the Aichi Targets promote coordinated a...   \n",
       "1  What is the purpose of the Observatory of Biod...   \n",
       "2  How do protected areas in Central African coun...   \n",
       "3  How does habitat destruction pose a threat to ...   \n",
       "4  What were the broad objectives for the overhau...   \n",
       "\n",
       "                                              answer  \\\n",
       "0  The Aichi Targets promote coordinated actions ...   \n",
       "1  The purpose of the Observatory of Biodiversity...   \n",
       "2  Protected areas in Central African countries c...   \n",
       "3  Habitat destruction in Central Africa leads to...   \n",
       "4                   I don't know. Thanks for asking!   \n",
       "\n",
       "                                            contexts  \\\n",
       "0  [[' are promoted through the Aichi Targets. Th...   \n",
       "1  [['MINFOF: Ministère des Forêts et de la Faune...   \n",
       "2  [['40\\nVarious COMIFAC directives,  notably th...   \n",
       "3  [['32\\n2.2. Rich but threatened  \\nanimal dive...   \n",
       "4  [['42\\nand to clarify its positioning in the n...   \n",
       "\n",
       "                                        ground_truth  answer_relevancy  \\\n",
       "0  The Aichi Targets promote coordinated actions ...          0.928332   \n",
       "1  The purpose of the Observatory of Biodiversity...          1.000000   \n",
       "2  Protected areas in Central African countries c...          1.000000   \n",
       "3  Habitat destruction poses a threat to great ap...          0.903681   \n",
       "4  The broad objectives for the overhaul of UTOs ...          0.000000   \n",
       "\n",
       "   context_precision  faithfulness  context_recall  \n",
       "0           1.000000      0.666667             1.0  \n",
       "1           1.000000      1.000000             1.0  \n",
       "2           0.849645      0.857143             1.0  \n",
       "3           0.863277      1.000000             1.0  \n",
       "4           0.923989           NaN             1.0  "
      ]
     },
     "execution_count": 6,
     "metadata": {},
     "output_type": "execute_result"
    }
   ],
   "source": [
    "df = result.to_pandas()\n",
    "df.head()"
   ]
  }
 ],
 "metadata": {
  "kernelspec": {
   "display_name": "forestbot-QnTDFiWY-py3.10",
   "language": "python",
   "name": "python3"
  },
  "language_info": {
   "codemirror_mode": {
    "name": "ipython",
    "version": 3
   },
   "file_extension": ".py",
   "mimetype": "text/x-python",
   "name": "python",
   "nbconvert_exporter": "python",
   "pygments_lexer": "ipython3",
   "version": "3.10.12"
  }
 },
 "nbformat": 4,
 "nbformat_minor": 2
}
