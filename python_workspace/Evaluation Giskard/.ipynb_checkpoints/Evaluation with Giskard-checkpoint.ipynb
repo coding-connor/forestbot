{
 "cells": [
  {
   "cell_type": "code",
   "execution_count": null,
   "metadata": {},
   "outputs": [],
   "source": [
    "import os\n",
    "from dotenv import load_dotenv, find_dotenv\n",
    "\n",
    "load_dotenv(find_dotenv(raise_error_if_not_found=True))\n",
    "\n",
    "# Retrieve and verify the OpenAI API key\n",
    "api_key = os.getenv(\"OPENAI_API_KEY\")\n",
    "if not api_key:\n",
    "    raise EnvironmentError(\"OPENAI_API_KEY not defined in the .env file\")\n",
    "\n",
    "# Use the API key\n",
    "print(\"OPENAI_API_KEY successfully loaded.\")"
   ]
  },
  {
   "cell_type": "code",
   "execution_count": null,
   "metadata": {},
   "outputs": [],
   "source": [
    "import sys\n",
    "print(sys.executable)\n",
    "sys.path.append('../RAG_Basic')\n",
    "from Call_RAG import ask,ask_Llama3\n",
    "#ask_Llama3(\"que fais l'ofac ?\")\n"
   ]
  },
  {
   "cell_type": "markdown",
   "metadata": {},
   "source": [
    "# Wrap model and dataset with Giskard"
   ]
  },
  {
   "cell_type": "code",
   "execution_count": 1,
   "metadata": {},
   "outputs": [
    {
     "ename": "ModuleNotFoundError",
     "evalue": "No module named 'giskard'",
     "output_type": "error",
     "traceback": [
      "\u001b[0;31m---------------------------------------------------------------------------\u001b[0m",
      "\u001b[0;31mModuleNotFoundError\u001b[0m                       Traceback (most recent call last)",
      "Cell \u001b[0;32mIn[1], line 1\u001b[0m\n\u001b[0;32m----> 1\u001b[0m \u001b[38;5;28;01mimport\u001b[39;00m \u001b[38;5;21;01mgiskard\u001b[39;00m\n\u001b[1;32m      2\u001b[0m \u001b[38;5;28;01mimport\u001b[39;00m \u001b[38;5;21;01mpandas\u001b[39;00m \u001b[38;5;28;01mas\u001b[39;00m \u001b[38;5;21;01mpd\u001b[39;00m\n\u001b[1;32m      4\u001b[0m \u001b[38;5;28;01mdef\u001b[39;00m \u001b[38;5;21mmodel_predict\u001b[39m(df: pd\u001b[38;5;241m.\u001b[39mDataFrame):\n",
      "\u001b[0;31mModuleNotFoundError\u001b[0m: No module named 'giskard'"
     ]
    }
   ],
   "source": [
    "import giskard\n",
    "import pandas as pd\n",
    "\n",
    "def model_predict(df: pd.DataFrame):\n",
    "    \"\"\"Wraps the LLM call in a simple Python function.\n",
    "\n",
    "    The function takes a pandas.DataFrame containing the input variables needed\n",
    "    by your model, and must return a list of the outputs (one for each row).\n",
    "    \"\"\"\n",
    "    return [ask_Llama3(question) for question in df[\"question\"]]\n",
    "\n",
    "\n",
    "# Don’t forget to fill the `name` and `description`: they are used by Giskard\n",
    "# to generate domain-specific tests.\n",
    "giskard_model = giskard.Model(\n",
    "    model=model_predict,\n",
    "    model_type=\"text_generation\",\n",
    "    name=\"Climate Change Question Answering\",\n",
    "    description=\"This model answers any question about climate change based on IPCC reports\",\n",
    "    feature_names=[\"question\"],\n",
    ")"
   ]
  },
  {
   "cell_type": "code",
   "execution_count": null,
   "metadata": {},
   "outputs": [],
   "source": [
    "#Test\n",
    "# Optional: let’s test that the wrapped model works\n",
    "examples = [\n",
    "    \"Combien de pays son couvert par l'OFAC ? \",\n",
    "    \"Le Cameroun est-il a jour de ses engagements ?\",\n",
    "]\n",
    "giskard_dataset = giskard.Dataset(pd.DataFrame({\"question\": examples}), target=None)\n",
    "\n",
    "print(giskard_model.predict(giskard_dataset).prediction)"
   ]
  }
 ],
 "metadata": {
  "kernelspec": {
   "display_name": "forestbot-QnTDFiWY-py3.10",
   "language": "python",
   "name": "python3"
  },
  "language_info": {
   "codemirror_mode": {
    "name": "ipython",
    "version": 3
   },
   "file_extension": ".py",
   "mimetype": "text/x-python",
   "name": "python",
   "nbconvert_exporter": "python",
   "pygments_lexer": "ipython3",
   "version": "3.10.12"
  }
 },
 "nbformat": 4,
 "nbformat_minor": 2
}
