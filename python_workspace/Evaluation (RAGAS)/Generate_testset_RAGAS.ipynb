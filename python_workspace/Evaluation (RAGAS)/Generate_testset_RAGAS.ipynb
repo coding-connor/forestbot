{
 "cells": [
  {
   "cell_type": "markdown",
   "metadata": {},
   "source": [
    "Import"
   ]
  },
  {
   "cell_type": "code",
   "execution_count": 1,
   "metadata": {},
   "outputs": [
    {
     "name": "stdout",
     "output_type": "stream",
     "text": [
      "Path of .env : /home/guillaume/Code/forestbot/.env\n"
     ]
    }
   ],
   "source": [
    "import os\n",
    "import openai\n",
    "import sys\n",
    "\n",
    "sys.path.append(\"../..\")\n",
    "\n",
    "from dotenv import load_dotenv, find_dotenv\n",
    "\n",
    "env_path = find_dotenv()\n",
    "print(f\"Path of .env : {env_path}\")\n",
    "\n",
    "\n",
    "_ = load_dotenv(find_dotenv())  # read local .env file\n",
    "\n",
    "openai.api_key = os.environ[\"OPENAI_API_KEY\"]"
   ]
  },
  {
   "cell_type": "markdown",
   "metadata": {},
   "source": [
    "Document"
   ]
  },
  {
   "cell_type": "code",
   "execution_count": 5,
   "metadata": {},
   "outputs": [],
   "source": [
    "from langchain_community.document_loaders import PyPDFLoader\n",
    "\n",
    "# def load_pdf_with_metadata(file_path):\n",
    "#     loader = PyPDFLoader(file_path)\n",
    "#     documents = loader.load()\n",
    "#     # Assign filename to each document's metadata\n",
    "#     for document in documents:\n",
    "#         document.metadata['filename'] = file_path\n",
    "#     return documents\n",
    "\n",
    "# docs1 = load_pdf_with_metadata(\"../pdf/EdAP 2020_EN.pdf\")\n",
    "# docs2 = load_pdf_with_metadata(\"../pdf/SOF book-web-rev3d-hires.pdf\")\n",
    "\n",
    "# documents = docs1 + docs2\n",
    "\n",
    "loaders = [\n",
    "    PyPDFLoader(\"../../pdf/EdAP 2020_EN.pdf\"),\n",
    "    PyPDFLoader(\"../../pdf/SOF book-web-rev3d-hires.pdf\"),\n",
    "]\n",
    "\n",
    "documents = []\n",
    "for loader in loaders:\n",
    "    documents.extend(loader.load())\n",
    "\n",
    "for document in documents:\n",
    "    document.metadata[\"filename\"] = document.metadata[\"source\"]\n",
    "\n",
    "# for document in documents:\n",
    "#    document.metadata['filename'] = file_path\n",
    "\n",
    "# Print metadata for checking\n",
    "# for document in documents:\n",
    "#    print(f\"Document from: {document.metadata['filename']}\")"
   ]
  },
  {
   "cell_type": "code",
   "execution_count": 6,
   "metadata": {},
   "outputs": [
    {
     "name": "stdout",
     "output_type": "stream",
     "text": [
      "Contenu de la page : STATE OF PROTECTED AREAS IN CENTRAL AFRICA 2020STATE OF \n",
      "PROTECTED\n",
      "AREAS\n",
      "IN CENTRAL \n",
      "AFRICA\n",
      "2020\n",
      "\n",
      "Métadonnées : {'source': '../../pdf/EdAP 2020_EN.pdf', 'page': 0, 'filename': '../../pdf/EdAP 2020_EN.pdf'}\n"
     ]
    }
   ],
   "source": [
    "# Print metadata for checking\n",
    "# for document in documents:\n",
    "#    print(f\"Document from: {document.metadata['filename']}\")\n",
    "# print(documents[0])\n",
    "# print(type(documents))\n",
    "# print(documents[0].keys())\n",
    "# print(dir(documents[0]))\n",
    "# Afficher le contenu de la page du document\n",
    "print(\"Contenu de la page :\", documents[0].page_content)\n",
    "\n",
    "# Afficher les métadonnées du document\n",
    "print(\"Métadonnées :\", documents[0].metadata)"
   ]
  },
  {
   "cell_type": "markdown",
   "metadata": {},
   "source": [
    "Generate data set"
   ]
  },
  {
   "cell_type": "code",
   "execution_count": 8,
   "metadata": {},
   "outputs": [],
   "source": [
    "from ragas.testset.generator import TestsetGenerator\n",
    "from ragas.testset.evolutions import simple, reasoning, multi_context\n",
    "from langchain_openai import ChatOpenAI, OpenAIEmbeddings\n",
    "from langchain_groq.chat_models import ChatGroq\n",
    "\n",
    "import logging\n",
    "\n",
    "# Configuration of logging\n",
    "logging.basicConfig()\n",
    "logger = logging.getLogger(\"tenacity\")\n",
    "\n",
    "# Define OpenAI models\n",
    "#generator_llm = ChatOpenAI(model=\"gpt-3.5-turbo\")\n",
    "#critic_llm = ChatOpenAI(model=\"gpt-4\")\n",
    "\n",
    "# Define Llama3/groq models\n",
    "generator_llm = ChatGroq(temperature=0, model_name=\"llama3-8b-8192\")\n",
    "critic_llm = ChatGroq(temperature=0, model_name=\"llama3-70b-8192\")\n",
    "\n",
    "\n",
    "\n",
    "embeddings = OpenAIEmbeddings()\n",
    "\n",
    "generator = TestsetGenerator.from_langchain(generator_llm, critic_llm, embeddings)"
   ]
  },
  {
   "cell_type": "code",
   "execution_count": 11,
   "metadata": {},
   "outputs": [
    {
     "data": {
      "application/vnd.jupyter.widget-view+json": {
       "model_id": "e479c48ca2f749d582d5d59a479f5aed",
       "version_major": 2,
       "version_minor": 0
      },
      "text/plain": [
       "embedding nodes:   0%|          | 0/114 [00:00<?, ?it/s]"
      ]
     },
     "metadata": {},
     "output_type": "display_data"
    },
    {
     "data": {
      "application/vnd.jupyter.widget-view+json": {
       "model_id": "5803e403bc2243d7a0adf99f0fb7680a",
       "version_major": 2,
       "version_minor": 0
      },
      "text/plain": [
       "Generating:   0%|          | 0/10 [00:00<?, ?it/s]"
      ]
     },
     "metadata": {},
     "output_type": "display_data"
    }
   ],
   "source": [
    "testset = generator.generate_with_langchain_docs(\n",
    "    documents[0:49],\n",
    "    test_size=10,\n",
    "    distributions={simple: 0.5, reasoning: 0.25, multi_context: 0.25},\n",
    ")"
   ]
  },
  {
   "cell_type": "markdown",
   "metadata": {},
   "source": [
    "Save dataset"
   ]
  },
  {
   "cell_type": "code",
   "execution_count": 14,
   "metadata": {},
   "outputs": [],
   "source": [
    "df_testset = testset.to_pandas()\n",
    "df_testset.to_csv(\n",
    "    \"evaluation_dataset_LLAMA3.csv\", index=False\n",
    ")  # `index=False` to not include label in the file"
   ]
  },
  {
   "cell_type": "code",
   "execution_count": 15,
   "metadata": {},
   "outputs": [
    {
     "name": "stdout",
     "output_type": "stream",
     "text": [
      "Index(['question', 'contexts', 'ground_truth', 'evolution_type', 'metadata',\n",
      "       'episode_done'],\n",
      "      dtype='object')\n",
      "<bound method NDFrame.head of                                             question  \\\n",
      "0  Here is the question:\\n\\n\"What role does endem...   \n",
      "1  Here is a question that can be fully answered ...   \n",
      "2  Here is the generated question:\\n\\n\"What is th...   \n",
      "3  Here is the question that can be fully answere...   \n",
      "4  Here is a question that can be fully answered ...   \n",
      "5  Here is a rewritten question that is more indi...   \n",
      "6  Here is a rewritten version of the question:\\n...   \n",
      "7  Here is a rewritten version of the question th...   \n",
      "8  Here is a rewritten question that is more indi...   \n",
      "9  Here is the generated question:\\n\\n\"What are t...   \n",
      "\n",
      "                                            contexts  \\\n",
      "0  [11\\nendemic poverty is contributing to wildli...   \n",
      "1  [46\\nFigure 12 – Donor funding for conservatio...   \n",
      "2  [ allowed the \\nDirectorate of Wildlife and Pr...   \n",
      "3  [36\\n2016 in Ndjambou et al., 2019). It is als...   \n",
      "4  [ Nature Reserve, DRC\\nKAMGANG Serge Alexis, G...   \n",
      "5  [11\\nendemic poverty is contributing to wildli...   \n",
      "6  [46\\nFigure 12 – Donor funding for conservatio...   \n",
      "7  [10\\nINTRODUCTION\\nThe second edition of the S...   \n",
      "8  [ Nature Reserve, DRC\\nKAMGANG Serge Alexis, G...   \n",
      "9  [34\\nStatus of the great apes in Central Afric...   \n",
      "\n",
      "                                        ground_truth evolution_type  \\\n",
      "0  Endemic poverty is contributing to wildlife cr...         simple   \n",
      "1  The sources of donor funding for conservation ...         simple   \n",
      "2                                                nan         simple   \n",
      "3  The role of sustainable management and certifi...         simple   \n",
      "4  The purpose of the list of individuals and org...         simple   \n",
      "5  Wildlife crime is connected to sectoral coordi...      reasoning   \n",
      "6  The Okapi Fund released two endowments in 2019...      reasoning   \n",
      "7                                                nan  multi_context   \n",
      "8                                                nan  multi_context   \n",
      "9  The main threats to the conservation of great ...         simple   \n",
      "\n",
      "                                            metadata  episode_done  \n",
      "0  [{'source': '../../pdf/EdAP 2020_EN.pdf', 'pag...          True  \n",
      "1  [{'source': '../../pdf/EdAP 2020_EN.pdf', 'pag...          True  \n",
      "2  [{'source': '../../pdf/EdAP 2020_EN.pdf', 'pag...          True  \n",
      "3  [{'source': '../../pdf/EdAP 2020_EN.pdf', 'pag...          True  \n",
      "4  [{'source': '../../pdf/EdAP 2020_EN.pdf', 'pag...          True  \n",
      "5  [{'source': '../../pdf/EdAP 2020_EN.pdf', 'pag...          True  \n",
      "6  [{'source': '../../pdf/EdAP 2020_EN.pdf', 'pag...          True  \n",
      "7  [{'source': '../../pdf/EdAP 2020_EN.pdf', 'pag...          True  \n",
      "8  [{'source': '../../pdf/EdAP 2020_EN.pdf', 'pag...          True  \n",
      "9  [{'source': '../../pdf/EdAP 2020_EN.pdf', 'pag...          True  >\n"
     ]
    }
   ],
   "source": [
    "print(df_testset.columns)\n",
    "print(df_testset.head)"
   ]
  }
 ],
 "metadata": {
  "kernelspec": {
   "display_name": "Python 3",
   "language": "python",
   "name": "python3"
  },
  "language_info": {
   "codemirror_mode": {
    "name": "ipython",
    "version": 3
   },
   "file_extension": ".py",
   "mimetype": "text/x-python",
   "name": "python",
   "nbconvert_exporter": "python",
   "pygments_lexer": "ipython3",
   "version": "3.10.12"
  }
 },
 "nbformat": 4,
 "nbformat_minor": 2
}
