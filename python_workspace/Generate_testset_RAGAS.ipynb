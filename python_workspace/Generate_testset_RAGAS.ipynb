{
 "cells": [
  {
   "cell_type": "markdown",
   "metadata": {},
   "source": [
    "Import"
   ]
  },
  {
   "cell_type": "code",
   "execution_count": 1,
   "metadata": {},
   "outputs": [
    {
     "name": "stdout",
     "output_type": "stream",
     "text": [
      "Chemin du fichier .env trouvé : /home/guillaume/Code/forestbot/.env\n"
     ]
    }
   ],
   "source": [
    "import os\n",
    "import openai\n",
    "import sys\n",
    "\n",
    "sys.path.append(\"../..\")\n",
    "\n",
    "from dotenv import load_dotenv, find_dotenv\n",
    "\n",
    "env_path = find_dotenv()\n",
    "print(f\"Path of .env : {env_path}\")\n",
    "\n",
    "\n",
    "_ = load_dotenv(find_dotenv())  # read local .env file\n",
    "\n",
    "openai.api_key = os.environ[\"OPENAI_API_KEY\"]"
   ]
  },
  {
   "cell_type": "markdown",
   "metadata": {},
   "source": [
    "Document"
   ]
  },
  {
   "cell_type": "code",
   "execution_count": 2,
   "metadata": {},
   "outputs": [],
   "source": [
    "from langchain_community.document_loaders import PyPDFLoader\n",
    "\n",
    "# def load_pdf_with_metadata(file_path):\n",
    "#     loader = PyPDFLoader(file_path)\n",
    "#     documents = loader.load()\n",
    "#     # Assign filename to each document's metadata\n",
    "#     for document in documents:\n",
    "#         document.metadata['filename'] = file_path\n",
    "#     return documents\n",
    "\n",
    "# docs1 = load_pdf_with_metadata(\"../pdf/EdAP 2020_EN.pdf\")\n",
    "# docs2 = load_pdf_with_metadata(\"../pdf/SOF book-web-rev3d-hires.pdf\")\n",
    "\n",
    "# documents = docs1 + docs2\n",
    "\n",
    "loaders = [\n",
    "    PyPDFLoader(\"../pdf/EdAP 2020_EN.pdf\"),\n",
    "    PyPDFLoader(\"../pdf/SOF book-web-rev3d-hires.pdf\"),\n",
    "]\n",
    "\n",
    "documents = []\n",
    "for loader in loaders:\n",
    "    documents.extend(loader.load())\n",
    "\n",
    "for document in documents:\n",
    "    document.metadata[\"filename\"] = document.metadata[\"source\"]\n",
    "\n",
    "# for document in documents:\n",
    "#    document.metadata['filename'] = file_path\n",
    "\n",
    "# Print metadata for checking\n",
    "# for document in documents:\n",
    "#    print(f\"Document from: {document.metadata['filename']}\")"
   ]
  },
  {
   "cell_type": "code",
   "execution_count": 12,
   "metadata": {},
   "outputs": [
    {
     "name": "stdout",
     "output_type": "stream",
     "text": [
      "Contenu de la page : STATE OF PROTECTED AREAS IN CENTRAL AFRICA 2020STATE OF \n",
      "PROTECTED\n",
      "AREAS\n",
      "IN CENTRAL \n",
      "AFRICA\n",
      "2020\n",
      "\n",
      "Métadonnées : {'source': '../pdf/EdAP 2020_EN.pdf', 'page': 0, 'filename': '../pdf/EdAP 2020_EN.pdf'}\n"
     ]
    }
   ],
   "source": [
    "# Print metadata for checking\n",
    "# for document in documents:\n",
    "#    print(f\"Document from: {document.metadata['filename']}\")\n",
    "# print(documents[0])\n",
    "# print(type(documents))\n",
    "# print(documents[0].keys())\n",
    "# print(dir(documents[0]))\n",
    "# Afficher le contenu de la page du document\n",
    "print(\"Contenu de la page :\", documents[0].page_content)\n",
    "\n",
    "# Afficher les métadonnées du document\n",
    "print(\"Métadonnées :\", documents[0].metadata)"
   ]
  },
  {
   "cell_type": "markdown",
   "metadata": {},
   "source": [
    "Generate data set"
   ]
  },
  {
   "cell_type": "code",
   "execution_count": 10,
   "metadata": {},
   "outputs": [
    {
     "data": {
      "application/vnd.jupyter.widget-view+json": {
       "model_id": "1d1a952a376e48e690cf6181c23ab814",
       "version_major": 2,
       "version_minor": 0
      },
      "text/plain": [
       "embedding nodes:   0%|          | 0/114 [00:00<?, ?it/s]"
      ]
     },
     "metadata": {},
     "output_type": "display_data"
    },
    {
     "data": {
      "application/vnd.jupyter.widget-view+json": {
       "model_id": "6d2d92d11bda4e5eb657e644cc9e589f",
       "version_major": 2,
       "version_minor": 0
      },
      "text/plain": [
       "Generating:   0%|          | 0/10 [00:00<?, ?it/s]"
      ]
     },
     "metadata": {},
     "output_type": "display_data"
    }
   ],
   "source": [
    "from ragas.testset.generator import TestsetGenerator\n",
    "from ragas.testset.evolutions import simple, reasoning, multi_context\n",
    "from langchain_openai import ChatOpenAI, OpenAIEmbeddings\n",
    "import logging\n",
    "\n",
    "# Configuration of logging\n",
    "logging.basicConfig()\n",
    "logger = logging.getLogger(\"tenacity\")\n",
    "\n",
    "# Define models\n",
    "generator_llm = ChatOpenAI(model=\"gpt-3.5-turbo\")\n",
    "critic_llm = ChatOpenAI(model=\"gpt-4\")\n",
    "embeddings = OpenAIEmbeddings()\n",
    "\n",
    "generator = TestsetGenerator.from_langchain(generator_llm, critic_llm, embeddings)\n",
    "\n",
    "testset = generator.generate_with_langchain_docs(\n",
    "    documents[0:49],\n",
    "    test_size=10,\n",
    "    distributions={simple: 0.5, reasoning: 0.25, multi_context: 0.25},\n",
    ")"
   ]
  },
  {
   "cell_type": "markdown",
   "metadata": {},
   "source": [
    "Save dataset"
   ]
  },
  {
   "cell_type": "code",
   "execution_count": 28,
   "metadata": {},
   "outputs": [],
   "source": [
    "df_testset = testset.to_pandas()\n",
    "df_testset.to_csv(\n",
    "    \"evaluation_dataset.csv\", index=False\n",
    ")  # `index=False` to not include label in the file"
   ]
  },
  {
   "cell_type": "code",
   "execution_count": 29,
   "metadata": {},
   "outputs": [
    {
     "name": "stdout",
     "output_type": "stream",
     "text": [
      "Index(['question', 'contexts', 'ground_truth', 'evolution_type', 'metadata',\n",
      "       'episode_done'],\n",
      "      dtype='object')\n",
      "<bound method NDFrame.head of                                             question  \\\n",
      "0  How do the Aichi Targets promote coordinated a...   \n",
      "1  What is the purpose of the Observatory of Biod...   \n",
      "2  How do protected areas in Central African coun...   \n",
      "3  How does habitat destruction pose a threat to ...   \n",
      "4  What were the broad objectives for the overhau...   \n",
      "5  What actions are needed for Aichi Targets to a...   \n",
      "6  How do certified forestry concessions help eco...   \n",
      "7  How do forest concessions in the DRC help biod...   \n",
      "8  What is the main goal of SOPA reports and how ...   \n",
      "9  How do Central African protected areas support...   \n",
      "\n",
      "                                            contexts  \\\n",
      "0  [ are promoted through the Aichi Targets. They...   \n",
      "1  [MINFOF: Ministère des Forêts et de la Faune (...   \n",
      "2  [40\\nVarious COMIFAC directives, notably those...   \n",
      "3  [32\\n2.2. Rich but threatened  \\nanimal divers...   \n",
      "4  [42\\nand to clarify its positioning in the nat...   \n",
      "5  [ are promoted through the Aichi Targets. They...   \n",
      "6  [29all  territories and all socio-economic act...   \n",
      "7  [28\\nforest cover for the conservation of frag...   \n",
      "8  [14\\nPREFACE\\nF. Palla, L. Itsoua-Madzous & C....   \n",
      "9  [19rainfall, supporting agricultural systems a...   \n",
      "\n",
      "                                        ground_truth evolution_type  \\\n",
      "0  The Aichi Targets promote coordinated actions ...         simple   \n",
      "1  The purpose of the Observatory of Biodiversity...         simple   \n",
      "2  Protected areas in Central African countries c...         simple   \n",
      "3  Habitat destruction poses a threat to great ap...         simple   \n",
      "4  The broad objectives for the overhaul of UTOs ...         simple   \n",
      "5  Coordinated actions at different scales and be...      reasoning   \n",
      "6  Certified forestry concessions under sustainab...      reasoning   \n",
      "7  Forest concessions in the DRC help biodiversit...  multi_context   \n",
      "8  The main goal of SOPA reports is to contribute...  multi_context   \n",
      "9  Central African protected areas contribute to ...  multi_context   \n",
      "\n",
      "                                            metadata  episode_done  \n",
      "0  [{'source': '../pdf/EdAP 2020_EN.pdf', 'page':...          True  \n",
      "1  [{'source': '../pdf/EdAP 2020_EN.pdf', 'page':...          True  \n",
      "2  [{'source': '../pdf/EdAP 2020_EN.pdf', 'page':...          True  \n",
      "3  [{'source': '../pdf/EdAP 2020_EN.pdf', 'page':...          True  \n",
      "4  [{'source': '../pdf/EdAP 2020_EN.pdf', 'page':...          True  \n",
      "5  [{'source': '../pdf/EdAP 2020_EN.pdf', 'page':...          True  \n",
      "6  [{'source': '../pdf/EdAP 2020_EN.pdf', 'page':...          True  \n",
      "7  [{'source': '../pdf/EdAP 2020_EN.pdf', 'page':...          True  \n",
      "8  [{'source': '../pdf/EdAP 2020_EN.pdf', 'page':...          True  \n",
      "9  [{'source': '../pdf/EdAP 2020_EN.pdf', 'page':...          True  >\n"
     ]
    }
   ],
   "source": [
    "print(df_testset.columns)\n",
    "print(df_testset.head)"
   ]
  }
 ],
 "metadata": {
  "kernelspec": {
   "display_name": "Python 3",
   "language": "python",
   "name": "python3"
  },
  "language_info": {
   "codemirror_mode": {
    "name": "ipython",
    "version": 3
   },
   "file_extension": ".py",
   "mimetype": "text/x-python",
   "name": "python",
   "nbconvert_exporter": "python",
   "pygments_lexer": "ipython3",
   "version": "3.10.12"
  }
 },
 "nbformat": 4,
 "nbformat_minor": 2
}
